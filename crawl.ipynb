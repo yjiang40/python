{
 "cells": [
  {
   "cell_type": "code",
   "execution_count": 65,
   "metadata": {},
   "outputs": [],
   "source": [
    "from bs4 import BeautifulSoup\n",
    "import requests\n",
    "import re\n",
    "import time\n"
   ]
  },
  {
   "cell_type": "code",
   "execution_count": 66,
   "metadata": {},
   "outputs": [
    {
     "data": {
      "text/plain": [
       "['https://www.apartments.com/eaves-union-city-union-city-ca/n8sxn9p/',\n",
       " 'https://www.apartments.com/avalon-union-city-union-city-ca/z8n7dqw/',\n",
       " 'https://www.apartments.com/the-union-flats-union-city-ca/dd1ekmk/',\n",
       " 'https://www.apartments.com/pinebrook-apartments-fremont-ca/5pnewfq/',\n",
       " 'https://www.apartments.com/ardenwood-forest-rental-condominiums-fremont-ca/8nbehh1/',\n",
       " 'https://www.apartments.com/parc-medallion-union-city-ca/djkjs2k/',\n",
       " 'https://www.apartments.com/mission-sierra-union-city-ca/trxmhm9/',\n",
       " 'https://www.apartments.com/skylark-union-city-ca/xgflymn/',\n",
       " 'https://www.apartments.com/parkside-union-city-ca/grd6jgx/',\n",
       " 'https://www.apartments.com/verandas-union-city-ca/gtqpp1z/',\n",
       " 'https://www.apartments.com/dry-creek-apartments-union-city-ca/cvddlte/',\n",
       " 'https://www.apartments.com/west-view-park-apartments-union-city-ca/xhp1wjm/',\n",
       " 'https://www.apartments.com/northgate-savoy-fremont-ca/0ywbdz2/',\n",
       " 'https://www.apartments.com/casa-arroyo-fremont-ca/6hy0fst/',\n",
       " 'https://www.apartments.com/brookvale-chateau-fremont-ca/snlms65/',\n",
       " 'https://www.apartments.com/suburbian-garden-fremont-ca/b2dm80c/',\n",
       " 'https://www.apartments.com/eaves-union-city-union-city-ca/n8sxn9p/',\n",
       " 'https://www.apartments.com/pinebrook-west-fremont-ca/cxs4dde/',\n",
       " 'https://www.apartments.com/amber-court-apartment-homes-fremont-ca/x4hhv4n/',\n",
       " 'https://www.apartments.com/28249-hesse-dr-hayward-ca/kfre3v9/',\n",
       " 'https://www.apartments.com/2827-sterne-pl-fremont-ca/wq5l8lk/',\n",
       " 'https://www.apartments.com/4169-boyle-dr-fremont-ca/1j23137/',\n",
       " 'https://www.apartments.com/avalon-union-city-union-city-ca/z8n7dqw/',\n",
       " 'https://www.apartments.com/31132-watkins-st-union-city-ca/kxdrh9b/',\n",
       " 'https://www.apartments.com/35540-monterra-terrace-union-city-ca-unit-apt-301/f3cnjyv/',\n",
       " 'https://www.apartments.com/3-br-2-bath-house-2653-morello-court-union-city-ca/d96y12l/',\n",
       " 'https://www.apartments.com/3-br-2-bath-house-34809-begonia-st-union-city-ca/hzjxjh3/']"
      ]
     },
     "execution_count": 66,
     "metadata": {},
     "output_type": "execute_result"
    }
   ],
   "source": [
    "headers= {\n",
    "    'User-Agent':'Mozilla/5.0 (Windows NT 10.0; WOW64) AppleWebKit/537.36 (KHTML, like Gecko) Chrome/67.0.3396.99 Safari/537.36'\n",
    "}\n",
    "url='https://www.apartments.com/union-city-ca/'\n",
    "response = requests.get(url, headers=headers)  # add headers\n",
    "soup = BeautifulSoup(response.text, 'lxml')\n",
    "content = soup.find(id='placardContainer').find(\"ul\").find_all(\"a\")  \n",
    "links=[x for x in [a.get('href') for a in content] if x !='javascript:void(0);' and x !='javascript:void(0)' and x is not None][:-5]\n",
    "links\n"
   ]
  },
  {
   "cell_type": "code",
   "execution_count": 67,
   "metadata": {},
   "outputs": [],
   "source": [
    "#create def to get content by url and return soup\n",
    "def get_page(url):\n",
    "    response= requests.get(url,headers=headers)\n",
    "    soup=BeautifulSoup(response.text,'lxml')\n",
    "    return soup\n",
    "\n",
    "#create def to get all links by url\n",
    "def get_links(link_url):\n",
    "    soup= get_page(link_url)\n",
    "    content = soup.find(id='placardContainer').find(\"ul\").find_all(\"a\")  \n",
    "    links=[x for x in [a.get('href') for a in content] if x !='javascript:void(0);' and x !='javascript:void(0)' and x is not None][:-5]\n",
    "    return links\n",
    "\n",
    "\n"
   ]
  },
  {
   "cell_type": "code",
   "execution_count": 68,
   "metadata": {},
   "outputs": [],
   "source": [
    "headers= {\n",
    "    'User-Agent':'Mozilla/5.0 (Windows NT 10.0; WOW64) AppleWebKit/537.36 (KHTML, like Gecko) Chrome/67.0.3396.99 Safari/537.36'\n",
    "}\n",
    "soup=get_page('https://www.apartments.com/eaves-union-city-union-city-ca/n8sxn9p/')\n",
    "bedroom= soup.find('td',class_='beds').find('span', class_='shortText').text.strip()\n",
    "Bathroom= soup.find('td', class_= 'baths').find('span', class_='shortText').text.strip()\n",
    "Rent=soup.find('td', class_= 'rent').text.strip()\n",
    "Deposit=soup.find('td', class_= 'deposit').text.strip()\n",
    "Sqft=soup.find('td', class_= 'sqft').text.strip()\n",
    "location=re.sub('[\\r\\n]', '', soup.find('div', class_=\"propertyAddress\").find('h2').get_text())\n",
    "Available=soup.find('td', class_= 'available').text.strip()\n",
    "Parking= soup.find('div', class_='parkingDetails').find('p').string.strip()\n",
    "Pet=re.sub('[\\r\\n]','',soup.find('div',class_='petPolicyDetails').find('ul').text.strip())\n",
    "Contact= soup.find('span', class_='phoneNumber').text.strip()\n",
    "Update= soup.find('span', class_='lastUpdated').text.strip()\n"
   ]
  },
  {
   "cell_type": "code",
   "execution_count": 69,
   "metadata": {},
   "outputs": [],
   "source": [
    "#create def to collect info \n",
    "def get_rent_info(url):\n",
    "    soup=get_page(url)\n",
    "    rent=soup.find('td', class_= 'rent').text.strip()\n",
    "   \n",
    "    bedroom= soup.find('td',class_='beds').find('span', class_='shortText').text.strip()\n",
    "    bathroom= soup.find('td', class_= 'baths').find('span', class_='shortText').text.strip()\n",
    "    deposit=soup.find('td', class_= 'deposit').text.strip()\n",
    "    sqft=soup.find('td', class_= 'sqft').text.strip()\n",
    "    location=re.sub('[\\r\\n]', '', soup.find('div', class_=\"propertyAddress\").find('h2').get_text())\n",
    "    available=soup.find('td', class_= 'available').text.strip()\n",
    "    contact= soup.find('span', class_='phoneNumber').text.strip()\n",
    "    update_date= soup.find('span', class_='lastUpdated').text.strip()\n",
    "    info= {\n",
    "        'Rent':rent,\n",
    "        'Beds':bedroom,\n",
    "        'Baths':bathroom,\n",
    "        'Deposit':deposit,\n",
    "        'Sqft':sqft,\n",
    "        'Location':location,\n",
    "        'Available':available,\n",
    "        'Contact':contact,\n",
    "        'Update_date':update_date     \n",
    "    }\n",
    "    return info\n",
    "\n"
   ]
  },
  {
   "cell_type": "code",
   "execution_count": 70,
   "metadata": {},
   "outputs": [
    {
     "data": {
      "text/plain": [
       "{'Rent': '$2,055 - 2,160',\n",
       " 'Beds': '1 BR',\n",
       " 'Baths': '1 BA',\n",
       " 'Deposit': '$750',\n",
       " 'Sqft': '650 Sq Ft',\n",
       " 'Location': '2175 Decoto Rd,                            Union City,                            CA94587',\n",
       " 'Available': 'Available Now',\n",
       " 'Contact': '844-845-3863',\n",
       " 'Update_date': 'Today'}"
      ]
     },
     "execution_count": 70,
     "metadata": {},
     "output_type": "execute_result"
    }
   ],
   "source": [
    "get_rent_info('https://www.apartments.com/eaves-union-city-union-city-ca/n8sxn9p/')\n"
   ]
  },
  {
   "cell_type": "code",
   "execution_count": 71,
   "metadata": {},
   "outputs": [
    {
     "name": "stdout",
     "output_type": "stream",
     "text": [
      "connect MYSQL\n"
     ]
    },
    {
     "data": {
      "text/plain": [
       "0"
      ]
     },
     "execution_count": 71,
     "metadata": {},
     "output_type": "execute_result"
    }
   ],
   "source": [
    "import pymysql\n",
    "pymysql.install_as_MySQLdb()\n",
    "DATABASE ={\n",
    "    'host':'localhost',\n",
    "    'database':'practice',\n",
    "    'user':'root',\n",
    "    'password':'jiangyuwei'\n",
    "}\n",
    "\n",
    "def get_db(setting):\n",
    "    print ('connect MYSQL')\n",
    "    return pymysql.connect(**setting)\n",
    "\n",
    "db= get_db(DATABASE)\n",
    "\n",
    "#Drop table if exists\n",
    "cursor.execute(\"DROP TABLE IF EXISTS house\")\n",
    "# Create Table\n",
    "cursor.execute(\"create table house ( Rent char(20), Beds char(20), Baths char(20), Deposit char(20), Sqft char(30), Location varchar(200), Available varchar(100), Contact char(14),Update_date varchar(100)) charset utf8mb4\")\n"
   ]
  },
  {
   "cell_type": "code",
   "execution_count": 72,
   "metadata": {},
   "outputs": [],
   "source": [
    "def insert(db,house):\n",
    "    values=\"{}\"*9\n",
    "    sql_values=values.format(house[\"Rent\"],house[\"Beds\"],house[\"Baths\"],house[\"Deposit\"],house[\"Sqft\"],house[\"Location\"],house[\"Available\"],house[\"Contact\"],house[\"Update_date\"])\n",
    "    sql=\"\"\"\n",
    "        insert into house (Rent,Beds,Baths,Deposit,Sqft,Location,Available,Contact, Update_date) \n",
    "        values({})\n",
    "    \"\"\".format(sql_values)\n",
    "    cursor=db.cursor(sql)\n",
    "    cursor.execute(sql)\n",
    "    db.commit()\n",
    "\n"
   ]
  },
  {
   "cell_type": "code",
   "execution_count": 73,
   "metadata": {},
   "outputs": [
    {
     "name": "stdout",
     "output_type": "stream",
     "text": [
      "connect MYSQL\n",
      "{'Rent': '$2,055 - 2,160', 'Beds': '1 BR', 'Baths': '1 BA', 'Deposit': '$750', 'Sqft': '650 Sq Ft', 'Location': '2175 Decoto Rd,                            Union City,                            CA94587', 'Available': 'Available Now', 'Contact': '844-845-3863', 'Update_date': 'Today'}\n",
      "{'Rent': '$2,400', 'Beds': 'Studio', 'Baths': '1 BA', 'Deposit': '$750', 'Sqft': '754 Sq Ft', 'Location': '24 Union Sq,                            Union City,                            CA94587', 'Available': 'Available Now', 'Contact': '844-864-2680', 'Update_date': 'Today'}\n",
      "{'Rent': '$2,280 - 2,355', 'Beds': '1 BR', 'Baths': '1 BA', 'Deposit': '$500', 'Sqft': '574 Sq Ft', 'Location': '34588 11th St,                            Union City,                            CA94587', 'Available': 'Available Now', 'Contact': '510-400-7201', 'Update_date': 'Today'}\n",
      "{'Rent': '$2,099', 'Beds': '1 BR', 'Baths': '1 BA', 'Deposit': '$650', 'Sqft': '625 Sq Ft', 'Location': '35995 Fremont Blvd,                            Fremont,                            CA94536', 'Available': 'Available Now', 'Contact': '510-324-9917', 'Update_date': 'Today'}\n",
      "{'Rent': '$1,700', 'Beds': 'Studio', 'Baths': '1 BA', 'Deposit': '$600', 'Sqft': '478 Sq Ft', 'Location': '5016 Paseo Padre Pky,                            Fremont,                            CA94555', 'Available': 'Available Now', 'Contact': '650-646-7974', 'Update_date': '1 Week Ago'}\n",
      "{'Rent': '$1,875 - 1,940', 'Beds': '1 BR', 'Baths': '1 BA', 'Deposit': '$450', 'Sqft': '660 Sq Ft', 'Location': '2500 Medallion Dr,                            Union City,                            CA94587', 'Available': 'Available Now', 'Contact': '510-253-2392', 'Update_date': 'Today'}\n",
      "{'Rent': '$2,108 - 2,456', 'Beds': '1 BR', 'Baths': '1 BA', 'Deposit': '$500', 'Sqft': '615 Sq Ft', 'Location': '34864 Mission Blvd,                            Union City,                            CA94587', 'Available': 'Available Now', 'Contact': '866-567-2407', 'Update_date': 'Today'}\n",
      "{'Rent': '$2,275 - 2,309', 'Beds': '1 BR', 'Baths': '1 BA', 'Deposit': '$0', 'Sqft': '716 Sq Ft', 'Location': '34655 Skylark Dr,                            Union City,                            CA94587', 'Available': 'Available Now', 'Contact': '877-592-0642', 'Update_date': 'Today'}\n",
      "{'Rent': '$1,828 - 1,906', 'Beds': 'Studio', 'Baths': '1 BA', 'Deposit': '$0', 'Sqft': '410 Sq Ft', 'Location': '1501 Decoto Rd,                            Union City,                            CA94587', 'Available': 'Available Now', 'Contact': '844-214-7698', 'Update_date': 'Today'}\n",
      "{'Rent': '$2,032 - 2,037', 'Beds': 'Studio', 'Baths': '1 BA', 'Deposit': '$0', 'Sqft': '510 Sq Ft', 'Location': '33 Union Sq,                            Union City,                            CA94587', 'Available': 'Available Now', 'Contact': '844-828-3912', 'Update_date': 'Today'}\n",
      "{'Rent': '$1,970', 'Beds': '1 BR', 'Baths': '1 BA', 'Deposit': '$850', 'Sqft': '600 Sq Ft', 'Location': '33300 Mission Blvd,                            Union City,                            CA94587', 'Available': 'Jan 19', 'Contact': '844-491-9787', 'Update_date': '1 Day Ago'}\n",
      "{'Rent': '$2,450', 'Beds': '2 BRs', 'Baths': '1 BA', 'Deposit': '$0', 'Sqft': '803 Sq Ft', 'Location': '2600 Decoto Rd,                            Union City,                            CA94587', 'Available': 'Available Now', 'Contact': '844-845-7790', 'Update_date': '1 Week Ago'}\n",
      "{'Rent': '$2,200 - 2,450', 'Beds': '2 BRs', 'Baths': '1 BA', 'Deposit': '$0', 'Sqft': '905 Sq Ft', 'Location': '34077 Paseo Padre Pky,                            Fremont,                            CA94555', 'Available': 'Available Now', 'Contact': '510-565-7248', 'Update_date': '4 Days Ago'}\n",
      "{'Rent': '$1,925', 'Beds': '1 BR', 'Baths': '1 BA', 'Deposit': '$500', 'Sqft': '620 Sq Ft', 'Location': '405 Rancho Arroyo Pky,                            Fremont,                            CA94536', 'Available': 'Available Now', 'Contact': '844-592-2888', 'Update_date': '1 Week Ago'}\n",
      "{'Rent': '$2,300', 'Beds': '2 BRs', 'Baths': '1 BA', 'Deposit': '$0', 'Sqft': '921 Sq Ft', 'Location': '36163 Fremont Blvd,                            Fremont,                            CA94536', 'Available': 'Jan 19', 'Contact': '510-248-4421', 'Update_date': '2 Weeks Ago'}\n",
      "{'Rent': '$1,945 - 2,050', 'Beds': '1 BR', 'Baths': '1 BA', 'Deposit': '$500', 'Sqft': '650 Sq Ft', 'Location': '3750 Tamayo St,                            Fremont,                            CA94536', 'Available': 'Available Now', 'Contact': '844-731-9068', 'Update_date': '2 Weeks Ago'}\n",
      "{'Rent': '$2,055 - 2,160', 'Beds': '1 BR', 'Baths': '1 BA', 'Deposit': '$750', 'Sqft': '650 Sq Ft', 'Location': '2175 Decoto Rd,                            Union City,                            CA94587', 'Available': 'Available Now', 'Contact': '844-845-3863', 'Update_date': 'Today'}\n",
      "{'Rent': 'Call for Rent', 'Beds': '2 BRs', 'Baths': '1 BA', 'Deposit': '$0', 'Sqft': '900 Sq Ft', 'Location': '4001 Nicolet Ave,                            Fremont,                            CA94536', 'Available': 'Not Available', 'Contact': '510-400-8919', 'Update_date': 'Today'}\n",
      "{'Rent': '$2,339 - 2,514', 'Beds': '2 BRs', 'Baths': '1 BA', 'Deposit': '$0', 'Sqft': '844 Sq Ft', 'Location': '34050 Westchester Ter,                            Fremont,                            CA94555', 'Available': 'Available Now', 'Contact': '844-711-2029', 'Update_date': '2 Weeks Ago'}\n",
      "{'Rent': '$2,750', 'Beds': '3 BRs', 'Baths': '2 BAs', 'Deposit': '$3,400', 'Sqft': '1,250 Sq Ft', 'Location': 'Hayward,                            CA94545', 'Available': 'Jan 19', 'Contact': '415-646-4369', 'Update_date': '6 Days Ago'}\n",
      "{'Rent': '$3,500', 'Beds': '3 BRs', 'Baths': '2 BAs', 'Deposit': '$3,750', 'Sqft': '1,390 Sq Ft', 'Location': 'Fremont,                            CA94555', 'Available': 'Available Now', 'Contact': '510-909-7430', 'Update_date': '1 Week Ago'}\n",
      "{'Rent': '$4,000', 'Beds': '4 BRs', 'Baths': '2 BAs', 'Deposit': '$4,000', 'Sqft': '1,830 Sq Ft', 'Location': 'Fremont,                            CA94536', 'Available': 'Available Now', 'Contact': '408-550-7796', 'Update_date': '2 Weeks Ago'}\n",
      "{'Rent': '$2,400', 'Beds': 'Studio', 'Baths': '1 BA', 'Deposit': '$750', 'Sqft': '754 Sq Ft', 'Location': '24 Union Sq,                            Union City,                            CA94587', 'Available': 'Available Now', 'Contact': '844-864-2680', 'Update_date': 'Today'}\n"
     ]
    },
    {
     "ename": "AttributeError",
     "evalue": "'NoneType' object has no attribute 'text'",
     "output_type": "error",
     "traceback": [
      "\u001b[1;31m---------------------------------------------------------------------------\u001b[0m",
      "\u001b[1;31mAttributeError\u001b[0m                            Traceback (most recent call last)",
      "\u001b[1;32m<ipython-input-73-566c20e2b6fc>\u001b[0m in \u001b[0;36m<module>\u001b[1;34m\u001b[0m\n\u001b[0;32m      2\u001b[0m \u001b[0mlinks\u001b[0m\u001b[1;33m=\u001b[0m\u001b[0mget_links\u001b[0m\u001b[1;33m(\u001b[0m\u001b[1;34m'https://www.apartments.com/union-city-ca/'\u001b[0m\u001b[1;33m)\u001b[0m\u001b[1;33m\u001b[0m\u001b[1;33m\u001b[0m\u001b[0m\n\u001b[0;32m      3\u001b[0m \u001b[1;32mfor\u001b[0m \u001b[0mlink\u001b[0m \u001b[1;32min\u001b[0m \u001b[0mlinks\u001b[0m\u001b[1;33m:\u001b[0m\u001b[1;33m\u001b[0m\u001b[1;33m\u001b[0m\u001b[0m\n\u001b[1;32m----> 4\u001b[1;33m     \u001b[0mhouse\u001b[0m\u001b[1;33m=\u001b[0m\u001b[0mget_rent_info\u001b[0m\u001b[1;33m(\u001b[0m\u001b[0mlink\u001b[0m\u001b[1;33m)\u001b[0m\u001b[1;33m\u001b[0m\u001b[1;33m\u001b[0m\u001b[0m\n\u001b[0m\u001b[0;32m      5\u001b[0m     \u001b[0mprint\u001b[0m\u001b[1;33m(\u001b[0m\u001b[0mhouse\u001b[0m\u001b[1;33m)\u001b[0m\u001b[1;33m\u001b[0m\u001b[1;33m\u001b[0m\u001b[0m\n\u001b[0;32m      6\u001b[0m     \u001b[0mtime\u001b[0m\u001b[1;33m.\u001b[0m\u001b[0msleep\u001b[0m\u001b[1;33m(\u001b[0m\u001b[1;36m2\u001b[0m\u001b[1;33m)\u001b[0m\u001b[1;33m\u001b[0m\u001b[1;33m\u001b[0m\u001b[0m\n",
      "\u001b[1;32m<ipython-input-69-72154f0322a8>\u001b[0m in \u001b[0;36mget_rent_info\u001b[1;34m(url)\u001b[0m\n\u001b[0;32m     10\u001b[0m     \u001b[0mlocation\u001b[0m\u001b[1;33m=\u001b[0m\u001b[0mre\u001b[0m\u001b[1;33m.\u001b[0m\u001b[0msub\u001b[0m\u001b[1;33m(\u001b[0m\u001b[1;34m'[\\r\\n]'\u001b[0m\u001b[1;33m,\u001b[0m \u001b[1;34m''\u001b[0m\u001b[1;33m,\u001b[0m \u001b[0msoup\u001b[0m\u001b[1;33m.\u001b[0m\u001b[0mfind\u001b[0m\u001b[1;33m(\u001b[0m\u001b[1;34m'div'\u001b[0m\u001b[1;33m,\u001b[0m \u001b[0mclass_\u001b[0m\u001b[1;33m=\u001b[0m\u001b[1;34m\"propertyAddress\"\u001b[0m\u001b[1;33m)\u001b[0m\u001b[1;33m.\u001b[0m\u001b[0mfind\u001b[0m\u001b[1;33m(\u001b[0m\u001b[1;34m'h2'\u001b[0m\u001b[1;33m)\u001b[0m\u001b[1;33m.\u001b[0m\u001b[0mget_text\u001b[0m\u001b[1;33m(\u001b[0m\u001b[1;33m)\u001b[0m\u001b[1;33m)\u001b[0m\u001b[1;33m\u001b[0m\u001b[1;33m\u001b[0m\u001b[0m\n\u001b[0;32m     11\u001b[0m     \u001b[0mavailable\u001b[0m\u001b[1;33m=\u001b[0m\u001b[0msoup\u001b[0m\u001b[1;33m.\u001b[0m\u001b[0mfind\u001b[0m\u001b[1;33m(\u001b[0m\u001b[1;34m'td'\u001b[0m\u001b[1;33m,\u001b[0m \u001b[0mclass_\u001b[0m\u001b[1;33m=\u001b[0m \u001b[1;34m'available'\u001b[0m\u001b[1;33m)\u001b[0m\u001b[1;33m.\u001b[0m\u001b[0mtext\u001b[0m\u001b[1;33m.\u001b[0m\u001b[0mstrip\u001b[0m\u001b[1;33m(\u001b[0m\u001b[1;33m)\u001b[0m\u001b[1;33m\u001b[0m\u001b[1;33m\u001b[0m\u001b[0m\n\u001b[1;32m---> 12\u001b[1;33m     \u001b[0mcontact\u001b[0m\u001b[1;33m=\u001b[0m \u001b[0msoup\u001b[0m\u001b[1;33m.\u001b[0m\u001b[0mfind\u001b[0m\u001b[1;33m(\u001b[0m\u001b[1;34m'span'\u001b[0m\u001b[1;33m,\u001b[0m \u001b[0mclass_\u001b[0m\u001b[1;33m=\u001b[0m\u001b[1;34m'phoneNumber'\u001b[0m\u001b[1;33m)\u001b[0m\u001b[1;33m.\u001b[0m\u001b[0mtext\u001b[0m\u001b[1;33m.\u001b[0m\u001b[0mstrip\u001b[0m\u001b[1;33m(\u001b[0m\u001b[1;33m)\u001b[0m\u001b[1;33m\u001b[0m\u001b[1;33m\u001b[0m\u001b[0m\n\u001b[0m\u001b[0;32m     13\u001b[0m     \u001b[0mupdate_date\u001b[0m\u001b[1;33m=\u001b[0m \u001b[0msoup\u001b[0m\u001b[1;33m.\u001b[0m\u001b[0mfind\u001b[0m\u001b[1;33m(\u001b[0m\u001b[1;34m'span'\u001b[0m\u001b[1;33m,\u001b[0m \u001b[0mclass_\u001b[0m\u001b[1;33m=\u001b[0m\u001b[1;34m'lastUpdated'\u001b[0m\u001b[1;33m)\u001b[0m\u001b[1;33m.\u001b[0m\u001b[0mtext\u001b[0m\u001b[1;33m.\u001b[0m\u001b[0mstrip\u001b[0m\u001b[1;33m(\u001b[0m\u001b[1;33m)\u001b[0m\u001b[1;33m\u001b[0m\u001b[1;33m\u001b[0m\u001b[0m\n\u001b[0;32m     14\u001b[0m     info= {\n",
      "\u001b[1;31mAttributeError\u001b[0m: 'NoneType' object has no attribute 'text'"
     ]
    }
   ],
   "source": [
    "db= get_db(DATABASE)\n",
    "links=get_links('https://www.apartments.com/union-city-ca/')\n",
    "for link in links:\n",
    "    house=get_rent_info(link)\n",
    "    print(house)\n",
    "    time.sleep(2)\n"
   ]
  },
  {
   "cell_type": "code",
   "execution_count": null,
   "metadata": {},
   "outputs": [],
   "source": []
  },
  {
   "cell_type": "code",
   "execution_count": null,
   "metadata": {},
   "outputs": [],
   "source": []
  },
  {
   "cell_type": "code",
   "execution_count": 58,
   "metadata": {},
   "outputs": [],
   "source": []
  },
  {
   "cell_type": "code",
   "execution_count": null,
   "metadata": {},
   "outputs": [],
   "source": []
  },
  {
   "cell_type": "code",
   "execution_count": null,
   "metadata": {},
   "outputs": [],
   "source": [
    "\n",
    "    "
   ]
  },
  {
   "cell_type": "code",
   "execution_count": null,
   "metadata": {},
   "outputs": [],
   "source": []
  },
  {
   "cell_type": "code",
   "execution_count": null,
   "metadata": {},
   "outputs": [],
   "source": []
  }
 ],
 "metadata": {
  "kernelspec": {
   "display_name": "Python 3",
   "language": "python",
   "name": "python3"
  },
  "language_info": {
   "codemirror_mode": {
    "name": "ipython",
    "version": 3
   },
   "file_extension": ".py",
   "mimetype": "text/x-python",
   "name": "python",
   "nbconvert_exporter": "python",
   "pygments_lexer": "ipython3",
   "version": "3.7.1"
  }
 },
 "nbformat": 4,
 "nbformat_minor": 2
}
