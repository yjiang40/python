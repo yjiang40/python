{
 "cells": [
  {
   "cell_type": "markdown",
   "metadata": {},
   "source": [
    "# BUILD A SIMPLE CRAWLER\n",
    "# Introduction\n",
    "## Name:Yuwei Jiang  Class: STAT694"
   ]
  },
  {
   "cell_type": "markdown",
   "metadata": {},
   "source": [
    "\n",
    "This project aims to create a crawler to scrapy recipe information under country category on www.allrecipes.com  and then export these recipe information in csv form. The packages I used to scrapy recipes and export organized recipe information is 'BeautifulSoup','request','re','time','csv','pandas','random'. After getting these recipes for different countries, the project  identify whether different countries' cusine has the same rate score.\n",
    "\n"
   ]
  },
  {
   "cell_type": "code",
   "execution_count": null,
   "metadata": {},
   "outputs": [],
   "source": [
    "from bs4 import BeautifulSoup\n",
    "import requests\n",
    "import re\n",
    "import time\n",
    "import csv\n",
    "import pandas as pd\n",
    "import random\n",
    "import os\n",
    "import matplotlib.pyplot as plt\n",
    "%matplotlib inline\n",
    "import numpy as np\n",
    "import statsmodels.api as sm\n",
    "from statsmodels.formula.api import ols\n",
    "import pingouin as pg\n",
    "import scipy.stats as stats\n"
   ]
  },
  {
   "cell_type": "markdown",
   "metadata": {},
   "source": [
    "## Part 1: Create a simple crawler "
   ]
  },
  {
   "cell_type": "markdown",
   "metadata": {},
   "source": [
    "### Create def to get content by url and return soup"
   ]
  },
  {
   "cell_type": "code",
   "execution_count": 2,
   "metadata": {},
   "outputs": [],
   "source": [
    "  \n",
    "def get_page(url):\n",
    "    headers= {\n",
    "    'User-Agent':'Mozilla/5.0 (Windows NT 10.0; WOW64) AppleWebKit/537.36 (KHTML, like Gecko) Chrome/67.0.3396.99 Safari/537.36'\n",
    "}\n",
    "    \n",
    "    keep_request = True\n",
    "    while keep_request:\n",
    "        try:\n",
    "            response= requests.get(url,headers=headers,timeout=15)\n",
    "            keep_request = False\n",
    "            soup=BeautifulSoup(response.text,'lxml')\n",
    "            return soup\n",
    "        except:\n",
    "            print(\"reconnect\")\n",
    "            time.sleep(1)\n"
   ]
  },
  {
   "cell_type": "markdown",
   "metadata": {},
   "source": [
    "### Create def to get all links on the given page(url)\n",
    "Get links on the given page(page1) and automatically continue to scrapy the next page by using 'for' loop and 'while' loop until all the pages have been searched."
   ]
  },
  {
   "cell_type": "code",
   "execution_count": 3,
   "metadata": {},
   "outputs": [],
   "source": [
    "def get_recipe_links(url):\n",
    "    soup= get_page(url)\n",
    "    content = soup.find_all( class_=\"fixed-recipe-card__title-link\") \n",
    "    links=[x for x in [a.get('href') for a in content]if x is not None]\n",
    "    return links\n",
    "def get_all_links(current_page):\n",
    "    j=1  \n",
    "    i=1\n",
    "    links=[]\n",
    "    for j in range (8):\n",
    "        j=j+1\n",
    "        a=get_recipe_links(current_page+'?page='+str(i))\n",
    "        while  a not in (None,[]):\n",
    "            links.extend(a)\n",
    "            print(i)\n",
    "            i=i+1\n",
    "            a=get_recipe_links(current_page+'?page='+str(i))\n",
    "            time.sleep(random.random()*3) \n",
    "        print(str(j)+'th try, Total got ' +str(i-1)+' pages and '+ str(len(links))+' links in '+current_page)\n",
    "    return links"
   ]
  },
  {
   "cell_type": "markdown",
   "metadata": {},
   "source": [
    "### Create def of a parser to collect information \n",
    "The information include author's name, recipe description, overall rate, how many reviews, how many photos, ingredients, how long does it take to cook."
   ]
  },
  {
   "cell_type": "code",
   "execution_count": 4,
   "metadata": {},
   "outputs": [],
   "source": [
    "def parser(url):\n",
    "    soup=get_page(url)\n",
    "    recipe_name= soup.find('h1')\n",
    "    try:\n",
    "        if recipe_name not in (None,[]):\n",
    "            recipe_name=recipe_name.text.strip()\n",
    "        else:\n",
    "            recipe_name='not provided'\n",
    "    except:\n",
    "        print('fail to get info')\n",
    "                               \n",
    "#author\n",
    "    author=soup.find('span',class_=\"submitter__name\")\n",
    "    try:\n",
    "        if author not in (None,[]):\n",
    "            author=author.text.strip()\n",
    "        else:\n",
    "            author=soup.find('a',class_=\"author-name link\")\n",
    "            if author not in (None,[]):\n",
    "                author=author.text.strip()\n",
    "            else:\n",
    "                author='not provided'\n",
    "    except:\n",
    "        print('fail to get info')\n",
    "    \n",
    "#description\n",
    "    description=soup.find('div',class_=\"submitter__description\")\n",
    "    try:\n",
    "        if description not in (None,[]):\n",
    "            description=description.text.strip()\n",
    "        else:\n",
    "            description=soup.find('p',class_='margin-0-auto')\n",
    "            if description not in (None,[]):\n",
    "                description=description.text.strip()\n",
    "            else:\n",
    "                description='None'\n",
    "    except:\n",
    "        print('fail to get info')\n",
    "\n",
    "#ratestar\n",
    "    rate=soup.find(\"div\", class_=\"rating-stars\")    \n",
    "    if rate not in (None,[]):\n",
    "        rate=re.search(\"Rated as (.*) out of 5 Stars\", str(rate),re.M|re.S|re.I).group(1)\n",
    "        if rate=='0':\n",
    "            rate='Unrated'\n",
    "        else:\n",
    "            rate=rate\n",
    "    else:\n",
    "        rate=soup.find('span',class_=\"review-star-text\")\n",
    "        if rate not in (None,[]):\n",
    "            rate=re.search(\"Rating: (.*) stars\",rate.text.strip(),re.M|re.S|re.I)\n",
    "            if rate not in (None,[]):\n",
    "                rate=rate.group(1)\n",
    "            else:\n",
    "                rate=\"Unrated\"\n",
    "        else:\n",
    "            rate='Unrated'\n",
    "\n",
    "#how many rate\n",
    "    if rate !='Unrated':\n",
    "        starate=soup.find_all('div',class_=\"reviewsummary--bar\" )\n",
    "        if starate not in (None,[]):\n",
    "            fivestar=re.search('(\\d*) cooks loved it!', str(starate), re.M|re.S|re.I).group(1)\n",
    "            fourstar=re.search('(\\d*) cooks liked it!', str(starate), re.M|re.S|re.I).group(1)\n",
    "            threestar=re.search('(\\d*) cooks thought it was Ok', str(starate), re.M|re.S|re.I).group(1)\n",
    "            twostar=re.search('(\\d*) cooks didn\\'t like it', str(starate), re.M|re.S|re.I).group(1)\n",
    "            onestar=re.search('(\\d*) cooks couldn\\'t eat it', str(starate), re.M|re.S|re.I).group(1)\n",
    "        else:\n",
    "            starate=soup.find('ul',class_=\"ratings-list\")\n",
    "            if starate not in (None,[]):\n",
    "                fivestar=starate.find_all('span',class_=\"rating-count\")[0].text.strip()\n",
    "                fourstar=starate.find_all('span',class_=\"rating-count\")[1].text.strip()\n",
    "                threestar=starate.find_all('span',class_=\"rating-count\")[2].text.strip()\n",
    "                twostar=starate.find_all('span',class_=\"rating-count\")[3].text.strip()\n",
    "                onestar=starate.find_all('span',class_=\"rating-count\")[4].text.strip()\n",
    "            else:\n",
    "                fivestar=\"Not provided\"\n",
    "                fourstar=\"Not provided\"\n",
    "                threestar=\"Not provided\"\n",
    "                twostar=\"Not provided\"\n",
    "                onestar=\"Not provided\"\n",
    "    else:\n",
    "        fivestar=\"Unrated\"\n",
    "        fourstar=\"Unrated\"\n",
    "        threestar=\"Unrated\"\n",
    "        twostar=\"Unrated\"\n",
    "        onestar=\"Unrated\"\n",
    "        \n",
    "#reviews\n",
    "    reviews=soup.find('span',class_=\"review-count\")\n",
    "    if reviews not in (None,[]):\n",
    "        reviews=re.search(\"(\\d*) review\",reviews.text.strip()).group(1)\n",
    "    else:\n",
    "        reviews=soup.find(\"a\",class_=\"ugc-ratings-link ugc-reviews-link\")\n",
    "        if reviews not in (None, []):\n",
    "            reviews=re.search(\"(\\d*) Review\",reviews.text.strip(),re.M|re.S|re.I).group(1)\n",
    "        else:\n",
    "            reviews=0\n",
    "\n",
    "#photos\n",
    "    photos=soup.find('span',class_=\"picture-count-link\")\n",
    "    if photos not in (None,[]):\n",
    "        photos=re.search(\"(.*) photo\",photos.text.strip()).group(1)\n",
    "    else:\n",
    "        photos=soup.find(\"a\",class_=\"ugc-ratings-link ugc-photos-link\")\n",
    "        if photos not in (None, []):\n",
    "            photos=re.search(\"(.*) Photo\",photos.text.strip(),re.M|re.S|re.I).group(1)\n",
    "        else:\n",
    "            photos=0\n",
    "\n",
    "#ingredients\n",
    "    ingredients=soup.find_all('span',class_=\"recipe-ingred_txt added\")\n",
    "    if ingredients  not in (None, []):\n",
    "        ingredients=[x for x in [a.text.strip() for a in ingredients]]\n",
    "        ingredients=(','.join(ingredients))\n",
    "    else:\n",
    "        ingredients=soup.find('ul',class_=\"ingredients-section\")\n",
    "        if ingredients not in (None,[]):\n",
    "            ingredients=soup.find('ul',class_=\"ingredients-section\").find_all('span')\n",
    "            ingredients=[x for x in [a.text.strip() for a in ingredients]]\n",
    "            ingredients=(','.join(ingredients))\n",
    "        else:\n",
    "            ingredients='Not provided'\n",
    "    \n",
    "#readytime\n",
    "    ready_time=soup.find_all('li',class_=\"prepTime__item\")\n",
    "    if ready_time not in (None,[]):\n",
    "        ready_time=re.search('Ready in (.*?)\\\"',str(ready_time),re.M|re.S|re.I).group(1)   \n",
    "    else:\n",
    "        ready_time=soup.find('div', class_=\"recipe-meta-item-body\")\n",
    "        if ready_time not in (None,[]):\n",
    "            ready_time=ready_time.text.strip()\n",
    "        else:\n",
    "            ready_time='not provided'\n",
    "        \n",
    "#nutrition\n",
    "    calories=soup.find('span',itemprop=\"calories\")\n",
    "    try:\n",
    "        if calories not in  (None,[]):\n",
    "            calories=calories.text.strip()[:-10]\n",
    "            g_carbs=soup.find('span', itemprop=\"carbohydrateContent\").text.strip()\n",
    "            g_fat=soup.find('span', itemprop=\"fatContent\").text.strip()\n",
    "            g_protein=soup.find('span', itemprop=\"proteinContent\").text.strip()\n",
    "            mg_LDL=soup.find('span', itemprop=\"cholesterolContent\").text.strip()\n",
    "            mg_sodium=soup.find('span', itemprop=\"sodiumContent\").text.strip()\n",
    "        else:\n",
    "            nutrition=soup.find('div',class_=\"partial recipe-nutrition-section\")\n",
    "            if nutrition not in (None,[]):\n",
    "                nutrition=nutrition.find('div',class_=\"section-body\").text.strip()\n",
    "                calories=re.search('(\\d*) calories',nutrition,re.M|re.S|re.I).group(1)\n",
    "                g_carbs=re.search('.*  (.*) g carbohydrates',nutrition,re.M|re.S|re.I).group(1)\n",
    "                g_fat=re.search('.*  (.*) g total fat',nutrition,re.M|re.S|re.I).group(1)\n",
    "                g_protein=re.search('.*  (.*) g protein',nutrition,re.M|re.S|re.I).group(1)\n",
    "                mg_LDL=re.search('.*  (.*) mg cholesterol',nutrition,re.M|re.S|re.I).group(1)\n",
    "                mg_sodium=re.search('.*  (.*) mg sodium',nutrition,re.M|re.S|re.I).group(1)\n",
    "            else:\n",
    "                calories='not provided'\n",
    "                g_carbs='not provided'\n",
    "                g_fat='not provided'\n",
    "                g_protein='not provided'\n",
    "                mg_LDL='not provided'\n",
    "                mg_sodium='not provided'\n",
    "    except:\n",
    "        print('fail to get info')\n",
    "        \n",
    "    info= {\n",
    "            'recipe':recipe_name,\n",
    "            'author':author,\n",
    "            'description':description,\n",
    "            'rate':rate,\n",
    "            'fivestar':fivestar,\n",
    "            'fourstar':fourstar,\n",
    "            'threestar':threestar,\n",
    "            'twostar':twostar,\n",
    "            'onestar':onestar,\n",
    "            'reviews':reviews,\n",
    "            'photos':photos,\n",
    "            'ingredients':ingredients,\n",
    "            'ready_time':ready_time,\n",
    "            'calories':calories,\n",
    "            'g_carbs':g_carbs,\n",
    "            'g_fat':g_fat,\n",
    "            'g_protein':g_protein,\n",
    "            'mg_LDL':mg_LDL,\n",
    "            'mg_sodium':mg_sodium}\n",
    "    return info"
   ]
  },
  {
   "cell_type": "markdown",
   "metadata": {},
   "source": [
    "### Save and read the information that download.\n",
    "Save links as txt form and open and read links in lists. Writing ricipe information into csv and read csv in pd form. \n",
    " \n",
    "\n",
    "\n"
   ]
  },
  {
   "cell_type": "code",
   "execution_count": 5,
   "metadata": {},
   "outputs": [],
   "source": [
    "def save_lists(lists,file_name):\n",
    "    file=open(file_name+'.txt','w')\n",
    "    file.write(str(lists))\n",
    "    file.close()\n",
    "\n",
    "def read_txt(txt):\n",
    "    file = open(txt,'r')\n",
    "    label = [eval(x.strip()) for x in file][0]\n",
    "    file.close()\n",
    "    print(label)\n",
    "def save_csv(df,file_name):\n",
    "    df.to_csv(path_or_buf = 'C:\\\\CSUEB\\\\STAT694\\\\'+file_name+'.csv')"
   ]
  },
  {
   "cell_type": "markdown",
   "metadata": {},
   "source": [
    "### Create a crawler"
   ]
  },
  {
   "cell_type": "code",
   "execution_count": 5,
   "metadata": {},
   "outputs": [],
   "source": [
    "def crawler(url):\n",
    "    links=[]\n",
    "    dfs=[]\n",
    "    soup=get_page(url)\n",
    "    content=soup.find('div',class_=\"grid slider\").find_all('a')\n",
    "    for a in content:\n",
    "        country_link=a.get('href')\n",
    "        country=re.search('(.*) Recipes',a.find('span',class_=\"category-title\").text.strip()).group(1)\n",
    "        links=list(set(get_all_links(country_link)))\n",
    "        #duplicate\n",
    "        save_lists(links,country)\n",
    "        n=1\n",
    "        for link in links:\n",
    "            temp_dict=parser(link)\n",
    "            temp_dict['country']=country\n",
    "            df=pd.DataFrame([temp_dict])\n",
    "            dfs.append(df)\n",
    "            n=n+1\n",
    "            time.sleep(random.random()*2)\n",
    "        \n",
    "        final_df = pd.concat(dfs,ignore_index=True)\n",
    "        final_df = final_df[['recipe','country','author','description','rate','fivestar','fourstar','threestar','twostar',\n",
    "                         'onestar','reviews','photos','ingredients','ready_time','calories','g_carbs','g_fat','g_protein',\n",
    "                         'mg_LDL','mg_sodium']] # 调整列顺序\n",
    "        save_csv(final_df,country)\n",
    "        print('There are ' + str(n-1)+' unrepeated '+country+ ' recipes in total.')\n",
    "\n",
    "def crawler_partial(url):\n",
    "    links=list(set(get_all_links(url)))\n",
    "        #duplicate\n",
    "    dfs=[]\n",
    "    save_lists(links,country)\n",
    "    n=1\n",
    "    for link in links:\n",
    "        temp_dict=parser(link)\n",
    "        temp_dict['country']=country\n",
    "        df=pd.DataFrame([temp_dict])\n",
    "        dfs.append(df)\n",
    "        n=n+1\n",
    "        time.sleep(random.random()*2)\n",
    "    final_df = pd.concat(dfs,ignore_index=True)\n",
    "    final_df = final_df[['recipe','country','author','description','rate','fivestar','fourstar','threestar','twostar',\n",
    "                         'onestar','reviews','photos','ingredients','ready_time','calories','g_carbs','g_fat','g_protein',\n",
    "                         'mg_LDL','mg_sodium']] # 调整列顺序\n",
    "    save_csv(final_df,country)\n",
    "    print('There are ' + str(n-1)+' unrepeated '+country+ ' recipes in total')\n",
    "\n",
    "def get_country(url):\n",
    "    soup=get_page(url)\n",
    "    content=soup.find('div',class_=\"grid slider\").find_all('a')\n",
    "    for a in content:\n",
    "        country_link=a.get('href')\n",
    "        country=a.find('span',class_=\"category-title\").text.strip()\n",
    "        print(country,country_link)"
   ]
  },
  {
   "cell_type": "markdown",
   "metadata": {},
   "source": [
    "### Scrapy information on allrecipes.com"
   ]
  },
  {
   "cell_type": "code",
   "execution_count": null,
   "metadata": {},
   "outputs": [
    {
     "name": "stdout",
     "output_type": "stream",
     "text": [
      "reconnect\n",
      "reconnect\n",
      "reconnect\n",
      "reconnect\n",
      "reconnect\n",
      "reconnect\n",
      "reconnect\n",
      "reconnect\n"
     ]
    }
   ],
   "source": [
    "%%time\n",
    "Asian='https://www.allrecipes.com/recipes/227/world-cuisine/asian/?internalSource=hub%20nav&referringId=701&referringContentType=Recipe%20Hub&referringPosition=1&linkName=hub%20nav%20exposed&clickId=hub%20nav%204'\n",
    "crawler(Asian)\n",
    "latin_american='https://www.allrecipes.com/recipes/237/world-cuisine/latin-american/?internalSource=hub%20nav&referringId=86&referringContentType=Recipe%20Hub&linkName=hub%20nav%20daughter&clickId=hub%20nav%202'\n",
    "crawler(latin_american)\n",
    "European='https://www.allrecipes.com/recipes/231/world-cuisine/european/?internalSource=hub%20nav&referringId=86&referringContentType=Recipe%20Hub&linkName=hub%20nav%20daughter&clickId=hub%20nav%202'\n",
    "crawler(European)\n",
    "country='african'\n",
    "African='https://www.allrecipes.com/recipes/226/world-cuisine/'+country+'/'\n",
    "crawler_partial(African)\n",
    "country='lebanese'\n",
    "lebanese='https://www.allrecipes.com/recipes/1824/world-cuisine/middle-eastern/'+country+'/'\n",
    "crawler_partial(lebanese)\n",
    "country='turkish'\n",
    "turkish='https://www.allrecipes.com/recipes/1825/world-cuisine/middle-eastern/'+country+'/'\n",
    "crawler_partial(turkish)\n",
    "country='israeli'\n",
    "israeli='https://www.allrecipes.com/recipes/1826/world-cuisine/middle-eastern/'+country+'/'\n",
    "crawler_partial(israeli)\n",
    "country='australian-and-new-zealander'\n",
    "AU='https://www.allrecipes.com/recipes/228/world-cuisine/'+country+'/'\n",
    "crawler_partial(AU)\n",
    "country='canadian'\n",
    "CAN='https://www.allrecipes.com/recipes/733/world-cuisine/'+country+'/'\n",
    "crawler_partial(CAN)\n",
    "country='us-recipes'\n",
    "US='https://www.allrecipes.com/recipes/236/'+country+'/'\n",
    "crawler_partial(US)\n"
   ]
  },
  {
   "cell_type": "markdown",
   "metadata": {},
   "source": [
    "# Part 2: Data Exploratory"
   ]
  },
  {
   "cell_type": "markdown",
   "metadata": {
    "scrolled": true
   },
   "source": [
    "### Data Cleaning and Data Exploratory\n",
    "The raw data scrapy from allrecipes.com has 17704 rows and 20 columns. There's no duplicated recipes and no null objects. \n",
    "Here are the numbers of recipes for each country or region.\n",
    "country\n",
    "Austrian                          40\n",
    "Bangladeshi                       17\n",
    "Belgian                           17\n",
    "Caribbean                        368\n",
    "Chinese                          379\n",
    "Dutch                             50\n",
    "Eastern European                 495\n",
    "Filipino                         195\n",
    "French                           542\n",
    "German                           372\n",
    "Greek                            477\n",
    "Indian                           869\n",
    "Indonesian                        41\n",
    "Italian                         2834\n",
    "Japanese                         267\n",
    "Korean                           180\n",
    "Malaysian                         43\n",
    "Mexican                         2590\n",
    "Pakistani                         38\n",
    "Persian                           58\n",
    "Portuguese                        85\n",
    "Scandinavian                     234\n",
    "South American                   285\n",
    "Spanish                          165\n",
    "Swiss                             34\n",
    "Thai                             301\n",
    "UK and Ireland                   527\n",
    "Vietnamese                        88\n",
    "african                          287\n",
    "australian-and-new-zealander     543\n",
    "canadian                        1128\n",
    "israeli                           32\n",
    "lebanese                          74\n",
    "turkish                           58\n",
    "us-recipes                      3991"
   ]
  },
  {
   "cell_type": "code",
   "execution_count": 7,
   "metadata": {},
   "outputs": [
    {
     "name": "stdout",
     "output_type": "stream",
     "text": [
      "(17704, 20)\n",
      "<class 'pandas.core.frame.DataFrame'>\n",
      "RangeIndex: 17704 entries, 0 to 17703\n",
      "Data columns (total 20 columns):\n",
      "recipe         17704 non-null object\n",
      "country        17704 non-null object\n",
      "author         17704 non-null object\n",
      "description    17704 non-null object\n",
      "rate           17704 non-null object\n",
      "fivestar       17704 non-null object\n",
      "fourstar       17704 non-null object\n",
      "threestar      17704 non-null object\n",
      "twostar        17704 non-null object\n",
      "onestar        17704 non-null object\n",
      "reviews        17565 non-null float64\n",
      "photos         17704 non-null object\n",
      "ingredients    17704 non-null object\n",
      "ready_time     17704 non-null object\n",
      "calories       17702 non-null object\n",
      "g_carbs        17704 non-null object\n",
      "g_fat          17704 non-null object\n",
      "g_protein      17704 non-null object\n",
      "mg_LDL         17704 non-null object\n",
      "mg_sodium      17704 non-null object\n",
      "dtypes: float64(1), object(19)\n",
      "memory usage: 2.7+ MB\n",
      "None\n"
     ]
    }
   ],
   "source": [
    "recipe=pd.read_csv('C:\\\\CSUEB\\\\STAT694\\\\crawler_project\\\\Allrecipes.csv',encoding = 'unicode_escape')\n",
    "print(recipe.shape)\n",
    "recipe.drop_duplicates()\n",
    "print(recipe.info())\n",
    "\n"
   ]
  },
  {
   "cell_type": "code",
   "execution_count": 8,
   "metadata": {},
   "outputs": [
    {
     "name": "stderr",
     "output_type": "stream",
     "text": [
      "C:\\Users\\Vivi\\Anaconda3\\lib\\site-packages\\ipykernel_launcher.py:2: SettingWithCopyWarning: \n",
      "A value is trying to be set on a copy of a slice from a DataFrame.\n",
      "Try using .loc[row_indexer,col_indexer] = value instead\n",
      "\n",
      "See the caveats in the documentation: http://pandas.pydata.org/pandas-docs/stable/indexing.html#indexing-view-versus-copy\n",
      "  \n",
      "C:\\Users\\Vivi\\Anaconda3\\lib\\site-packages\\ipykernel_launcher.py:3: SettingWithCopyWarning: \n",
      "A value is trying to be set on a copy of a slice from a DataFrame.\n",
      "Try using .loc[row_indexer,col_indexer] = value instead\n",
      "\n",
      "See the caveats in the documentation: http://pandas.pydata.org/pandas-docs/stable/indexing.html#indexing-view-versus-copy\n",
      "  This is separate from the ipykernel package so we can avoid doing imports until\n",
      "C:\\Users\\Vivi\\Anaconda3\\lib\\site-packages\\ipykernel_launcher.py:4: SettingWithCopyWarning: \n",
      "A value is trying to be set on a copy of a slice from a DataFrame.\n",
      "Try using .loc[row_indexer,col_indexer] = value instead\n",
      "\n",
      "See the caveats in the documentation: http://pandas.pydata.org/pandas-docs/stable/indexing.html#indexing-view-versus-copy\n",
      "  after removing the cwd from sys.path.\n",
      "C:\\Users\\Vivi\\Anaconda3\\lib\\site-packages\\ipykernel_launcher.py:5: SettingWithCopyWarning: \n",
      "A value is trying to be set on a copy of a slice from a DataFrame.\n",
      "Try using .loc[row_indexer,col_indexer] = value instead\n",
      "\n",
      "See the caveats in the documentation: http://pandas.pydata.org/pandas-docs/stable/indexing.html#indexing-view-versus-copy\n",
      "  \"\"\"\n",
      "C:\\Users\\Vivi\\Anaconda3\\lib\\site-packages\\ipykernel_launcher.py:6: SettingWithCopyWarning: \n",
      "A value is trying to be set on a copy of a slice from a DataFrame.\n",
      "Try using .loc[row_indexer,col_indexer] = value instead\n",
      "\n",
      "See the caveats in the documentation: http://pandas.pydata.org/pandas-docs/stable/indexing.html#indexing-view-versus-copy\n",
      "  \n",
      "C:\\Users\\Vivi\\Anaconda3\\lib\\site-packages\\ipykernel_launcher.py:7: SettingWithCopyWarning: \n",
      "A value is trying to be set on a copy of a slice from a DataFrame.\n",
      "Try using .loc[row_indexer,col_indexer] = value instead\n",
      "\n",
      "See the caveats in the documentation: http://pandas.pydata.org/pandas-docs/stable/indexing.html#indexing-view-versus-copy\n",
      "  import sys\n"
     ]
    },
    {
     "data": {
      "text/html": [
       "<div>\n",
       "<style scoped>\n",
       "    .dataframe tbody tr th:only-of-type {\n",
       "        vertical-align: middle;\n",
       "    }\n",
       "\n",
       "    .dataframe tbody tr th {\n",
       "        vertical-align: top;\n",
       "    }\n",
       "\n",
       "    .dataframe thead th {\n",
       "        text-align: right;\n",
       "    }\n",
       "</style>\n",
       "<table border=\"1\" class=\"dataframe\">\n",
       "  <thead>\n",
       "    <tr style=\"text-align: right;\">\n",
       "      <th></th>\n",
       "      <th>rate</th>\n",
       "    </tr>\n",
       "  </thead>\n",
       "  <tbody>\n",
       "    <tr>\n",
       "      <th>count</th>\n",
       "      <td>11437.000000</td>\n",
       "    </tr>\n",
       "    <tr>\n",
       "      <th>mean</th>\n",
       "      <td>4.330028</td>\n",
       "    </tr>\n",
       "    <tr>\n",
       "      <th>min</th>\n",
       "      <td>1.000000</td>\n",
       "    </tr>\n",
       "    <tr>\n",
       "      <th>max</th>\n",
       "      <td>5.000000</td>\n",
       "    </tr>\n",
       "    <tr>\n",
       "      <th>median</th>\n",
       "      <td>4.420000</td>\n",
       "    </tr>\n",
       "    <tr>\n",
       "      <th>std</th>\n",
       "      <td>0.380259</td>\n",
       "    </tr>\n",
       "  </tbody>\n",
       "</table>\n",
       "</div>"
      ],
      "text/plain": [
       "                rate\n",
       "count   11437.000000\n",
       "mean        4.330028\n",
       "min         1.000000\n",
       "max         5.000000\n",
       "median      4.420000\n",
       "std         0.380259"
      ]
     },
     "execution_count": 8,
     "metadata": {},
     "output_type": "execute_result"
    }
   ],
   "source": [
    "all_rate=recipe[(recipe.rate!='Unrated')& (recipe.fivestar!='Not provided')]\n",
    "all_rate['rate']=pd.to_numeric(all_rate['rate'], errors='coerce')\n",
    "all_rate['fivestar']=pd.to_numeric(all_rate['fivestar'], errors='coerce')\n",
    "all_rate['fourstar']=pd.to_numeric(all_rate['fourstar'], errors='coerce')\n",
    "all_rate['threestar']=pd.to_numeric(all_rate['threestar'], errors='coerce')\n",
    "all_rate['twostar']=pd.to_numeric(all_rate['twostar'], errors='coerce')\n",
    "all_rate['onestar']=pd.to_numeric(all_rate['onestar'], errors='coerce')\n",
    "all_rate.agg({'rate':['count','mean','min','max','median','std']})\n",
    "\n"
   ]
  },
  {
   "cell_type": "markdown",
   "metadata": {},
   "source": [
    "The following country has more than 400 recipes:'Indian','Italian','Mexican','australian-and-new-zealander','canadian','us-recipes'. A ANOVA test is applied to see if there's any difference in rating scores between these countries."
   ]
  },
  {
   "cell_type": "code",
   "execution_count": 9,
   "metadata": {},
   "outputs": [
    {
     "name": "stdout",
     "output_type": "stream",
     "text": [
      "                         country  rate                                       \n",
      "                                 count      mean   min   max median       std\n",
      "0                       Austrian    27  4.282593  2.94  4.75  4.410  0.407616\n",
      "1                    Bangladeshi     8  4.232500  3.33  4.58  4.370  0.417706\n",
      "2                        Belgian    11  4.303636  3.78  4.71  4.500  0.340361\n",
      "3                      Caribbean   219  4.299178  2.67  4.90  4.380  0.412306\n",
      "4                        Chinese   248  4.254556  2.50  5.00  4.330  0.371514\n",
      "5                          Dutch    23  4.234348  2.22  4.72  4.370  0.564373\n",
      "6               Eastern European   286  4.283112  1.00  5.00  4.375  0.427507\n",
      "7                       Filipino    93  4.246774  2.92  5.00  4.320  0.411535\n",
      "8                         French   370  4.376054  1.80  5.00  4.450  0.383872\n",
      "9                         German   219  4.276621  2.37  4.88  4.380  0.408761\n",
      "10                         Greek   339  4.352920  3.00  5.00  4.440  0.344302\n",
      "11                        Indian   437  4.202197  2.00  5.00  4.260  0.440540\n",
      "12                    Indonesian    22  4.250000  3.12  4.81  4.290  0.418728\n",
      "13                       Italian  1952  4.347556  1.55  5.00  4.430  0.362295\n",
      "14                      Japanese   140  4.292714  2.72  5.00  4.385  0.435507\n",
      "15                        Korean    73  4.362192  2.67  5.00  4.500  0.432609\n",
      "16                     Malaysian    24  4.267500  3.20  5.00  4.395  0.471374\n",
      "17                       Mexican  1657  4.355685  1.95  5.00  4.430  0.348426\n",
      "18                     Pakistani    23  4.105652  2.38  4.74  4.300  0.585715\n",
      "19                       Persian    24  4.382917  3.76  5.00  4.355  0.376303\n",
      "20                    Portuguese    54  4.228704  2.00  5.00  4.345  0.487241\n",
      "21                  Scandinavian   142  4.313310  2.42  4.86  4.440  0.416576\n",
      "22                South American   121  4.266529  3.00  5.00  4.330  0.396257\n",
      "23                       Spanish   106  4.292642  2.71  5.00  4.410  0.434196\n",
      "24                         Swiss    16  4.275000  3.33  4.77  4.345  0.384586\n",
      "25                          Thai   188  4.187394  1.00  5.00  4.305  0.582243\n",
      "26                UK and Ireland   338  4.287308  1.00  4.93  4.390  0.436655\n",
      "27                    Vietnamese    48  4.267083  3.00  5.00  4.385  0.415738\n",
      "28                       african   145  4.309034  3.12  5.00  4.370  0.337211\n",
      "29  australian-and-new-zealander   483  4.377081  2.50  4.83  4.440  0.317047\n",
      "30                      canadian   573  4.357749  2.88  5.00  4.430  0.340945\n",
      "31                       israeli    17  4.325882  3.25  4.75  4.330  0.331908\n",
      "32                      lebanese    46  4.266304  3.00  4.85  4.365  0.403421\n",
      "33                       turkish    27  4.380000  3.31  5.00  4.430  0.357394\n",
      "34                    us-recipes  2938  4.349765  1.42  5.00  4.440  0.363163\n",
      "[('country', ''), ('rate', 'count'), ('rate', 'mean'), ('rate', 'min'), ('rate', 'max'), ('rate', 'median'), ('rate', 'std')]\n",
      "                         country  rate                                       \n",
      "                                 count      mean   min   max median       std\n",
      "11                        Indian   437  4.202197  2.00  5.00   4.26  0.440540\n",
      "13                       Italian  1952  4.347556  1.55  5.00   4.43  0.362295\n",
      "17                       Mexican  1657  4.355685  1.95  5.00   4.43  0.348426\n",
      "29  australian-and-new-zealander   483  4.377081  2.50  4.83   4.44  0.317047\n",
      "30                      canadian   573  4.357749  2.88  5.00   4.43  0.340945\n",
      "34                    us-recipes  2938  4.349765  1.42  5.00   4.44  0.363163\n"
     ]
    }
   ],
   "source": [
    "\n",
    "summary=all_rate.groupby('country',as_index=False ).agg({'rate':['count','mean','min','max','median','std']})\n",
    "print(summary)\n",
    "print(list(summary.columns))\n",
    "print(summary[summary[('rate', 'count')]>400 ])\n"
   ]
  },
  {
   "cell_type": "code",
   "execution_count": 10,
   "metadata": {},
   "outputs": [
    {
     "name": "stdout",
     "output_type": "stream",
     "text": [
      "<class 'pandas.core.frame.DataFrame'>\n",
      "Int64Index: 8040 entries, 1113 to 17703\n",
      "Data columns (total 20 columns):\n",
      "recipe         8040 non-null object\n",
      "country        8040 non-null object\n",
      "author         8040 non-null object\n",
      "description    8040 non-null object\n",
      "rate           8040 non-null float64\n",
      "fivestar       8040 non-null int64\n",
      "fourstar       8040 non-null int64\n",
      "threestar      8040 non-null int64\n",
      "twostar        8040 non-null int64\n",
      "onestar        8040 non-null int64\n",
      "reviews        7921 non-null float64\n",
      "photos         8040 non-null object\n",
      "ingredients    8040 non-null object\n",
      "ready_time     8040 non-null object\n",
      "calories       8039 non-null object\n",
      "g_carbs        8040 non-null object\n",
      "g_fat          8040 non-null object\n",
      "g_protein      8040 non-null object\n",
      "mg_LDL         8040 non-null object\n",
      "mg_sodium      8040 non-null object\n",
      "dtypes: float64(2), int64(5), object(13)\n",
      "memory usage: 1.3+ MB\n",
      "None\n"
     ]
    },
    {
     "data": {
      "text/plain": [
       "<matplotlib.axes._subplots.AxesSubplot at 0x22c2bc15160>"
      ]
     },
     "execution_count": 10,
     "metadata": {},
     "output_type": "execute_result"
    },
    {
     "data": {
      "image/png": "[encoded data removed]",
      "text/plain": [
       "<Figure size 432x288 with 1 Axes>"
      ]
     },
     "metadata": {
      "needs_background": "light"
     },
     "output_type": "display_data"
    }
   ],
   "source": [
    "test=all_rate[all_rate['country'].isin (['Indian','Italian','Mexican',\n",
    "    'australian-and-new-zealander','canadian','us-recipes'])]\n",
    "print(test.info())\n",
    "test.boxplot('rate',by='country')"
   ]
  },
  {
   "cell_type": "markdown",
   "metadata": {},
   "source": [
    "# Part3: ANOVA TEST\n",
    "    - Is there any difference in rating between following countries:'Indian','Italian','Mexican','australian-and-new-zealander','canadian','us-recipes'?\n"
   ]
  },
  {
   "cell_type": "markdown",
   "metadata": {},
   "source": [
    "## Model Fitting\n",
    "Two different methods to conduct ANOVA TEST in python. One uses statsmodels package. One uses pingouin package.\n",
    " - import statsmodels.api as sm\n",
    " - from statsmodels.formula.api import ols\n",
    " - import pingouin as pg"
   ]
  },
  {
   "cell_type": "code",
   "execution_count": 11,
   "metadata": {},
   "outputs": [
    {
     "name": "stdout",
     "output_type": "stream",
     "text": [
      "              df       sum_sq   mean_sq          F        PR(>F)\n",
      "country      5.0     9.769447  1.953889  15.035465  1.003804e-14\n",
      "Residual  8034.0  1044.034700  0.129952        NaN           NaN\n"
     ]
    }
   ],
   "source": [
    "mod=ols('rate ~ country',data=test).fit()\n",
    "aov_table=sm.stats.anova_lm(mod,typ=1)\n",
    "print(aov_table)\n"
   ]
  },
  {
   "cell_type": "code",
   "execution_count": 12,
   "metadata": {},
   "outputs": [
    {
     "name": "stdout",
     "output_type": "stream",
     "text": [
      "    Source        SS    DF     MS       F       p-unc    np2\n",
      "0  country     9.769     5  1.954  15.035  1.0038e-14  0.009\n",
      "1   Within  1044.035  8034  0.130       -           -      -\n"
     ]
    }
   ],
   "source": [
    "aov = pg.anova(data=test, dv='rate', between='country', detailed=True)\n",
    "print(aov)"
   ]
  },
  {
   "cell_type": "code",
   "execution_count": 14,
   "metadata": {},
   "outputs": [
    {
     "name": "stdout",
     "output_type": "stream",
     "text": [
      "        A                             B   mean(A)   mean(B)      diff     SE  \\\n",
      "0  Indian                       Italian  4.202197  4.347556 -0.145360  0.019   \n",
      "1  Indian                       Mexican  4.202197  4.355685 -0.153488  0.019   \n",
      "2  Indian  australian-and-new-zealander  4.202197  4.377081 -0.174884  0.024   \n",
      "3  Indian                      canadian  4.202197  4.357749 -0.155552  0.023   \n",
      "4  Indian                    us-recipes  4.202197  4.349765 -0.147568  0.018   \n",
      "\n",
      "        tail      T  p-tukey  efsize  eftype  \n",
      "0  two-sided -7.618    0.001  -0.403  hedges  \n",
      "1  two-sided -7.916    0.001  -0.426  hedges  \n",
      "2  two-sided -7.347    0.001  -0.485  hedges  \n",
      "3  two-sided -6.793    0.001  -0.431  hedges  \n",
      "4  two-sided -7.983    0.001  -0.409  hedges  \n",
      "<class 'pandas.core.frame.DataFrame'>\n",
      "Index: 15 entries, Italian-Indian to us-recipes-canadian\n",
      "Data columns (total 8 columns):\n",
      "coef               15 non-null float64\n",
      "std err            15 non-null float64\n",
      "t                  15 non-null float64\n",
      "P>|t|              15 non-null float64\n",
      "Conf. Int. Low     15 non-null float64\n",
      "Conf. Int. Upp.    15 non-null float64\n",
      "pvalue-hs          15 non-null float64\n",
      "reject-hs          15 non-null bool\n",
      "dtypes: bool(1), float64(7)\n",
      "memory usage: 975.0+ bytes\n"
     ]
    },
    {
     "data": {
      "text/html": [
       "<div>\n",
       "<style scoped>\n",
       "    .dataframe tbody tr th:only-of-type {\n",
       "        vertical-align: middle;\n",
       "    }\n",
       "\n",
       "    .dataframe tbody tr th {\n",
       "        vertical-align: top;\n",
       "    }\n",
       "\n",
       "    .dataframe thead th {\n",
       "        text-align: right;\n",
       "    }\n",
       "</style>\n",
       "<table border=\"1\" class=\"dataframe\">\n",
       "  <thead>\n",
       "    <tr style=\"text-align: right;\">\n",
       "      <th></th>\n",
       "      <th>coef</th>\n",
       "      <th>std err</th>\n",
       "      <th>t</th>\n",
       "      <th>P&gt;|t|</th>\n",
       "      <th>Conf. Int. Low</th>\n",
       "      <th>Conf. Int. Upp.</th>\n",
       "      <th>pvalue-hs</th>\n",
       "      <th>reject-hs</th>\n",
       "    </tr>\n",
       "  </thead>\n",
       "  <tbody>\n",
       "    <tr>\n",
       "      <th>Italian-Indian</th>\n",
       "      <td>0.145360</td>\n",
       "      <td>0.019077</td>\n",
       "      <td>7.619467</td>\n",
       "      <td>2.837633e-14</td>\n",
       "      <td>0.107963</td>\n",
       "      <td>0.182756</td>\n",
       "      <td>3.694822e-13</td>\n",
       "      <td>True</td>\n",
       "    </tr>\n",
       "    <tr>\n",
       "      <th>Mexican-Indian</th>\n",
       "      <td>0.153488</td>\n",
       "      <td>0.019386</td>\n",
       "      <td>7.917663</td>\n",
       "      <td>2.743826e-15</td>\n",
       "      <td>0.115487</td>\n",
       "      <td>0.191489</td>\n",
       "      <td>3.885781e-14</td>\n",
       "      <td>True</td>\n",
       "    </tr>\n",
       "    <tr>\n",
       "      <th>australian-and-new-zealander-Indian</th>\n",
       "      <td>0.174884</td>\n",
       "      <td>0.023800</td>\n",
       "      <td>7.348163</td>\n",
       "      <td>2.206762e-13</td>\n",
       "      <td>0.128230</td>\n",
       "      <td>0.221538</td>\n",
       "      <td>2.648548e-12</td>\n",
       "      <td>True</td>\n",
       "    </tr>\n",
       "    <tr>\n",
       "      <th>canadian-Indian</th>\n",
       "      <td>0.155552</td>\n",
       "      <td>0.022895</td>\n",
       "      <td>6.794243</td>\n",
       "      <td>1.166483e-11</td>\n",
       "      <td>0.110672</td>\n",
       "      <td>0.200431</td>\n",
       "      <td>1.283126e-10</td>\n",
       "      <td>True</td>\n",
       "    </tr>\n",
       "    <tr>\n",
       "      <th>us-recipes-Indian</th>\n",
       "      <td>0.147568</td>\n",
       "      <td>0.018483</td>\n",
       "      <td>7.984200</td>\n",
       "      <td>1.610261e-15</td>\n",
       "      <td>0.111338</td>\n",
       "      <td>0.183799</td>\n",
       "      <td>2.498002e-14</td>\n",
       "      <td>True</td>\n",
       "    </tr>\n",
       "  </tbody>\n",
       "</table>\n",
       "</div>"
      ],
      "text/plain": [
       "                                         coef   std err         t  \\\n",
       "Italian-Indian                       0.145360  0.019077  7.619467   \n",
       "Mexican-Indian                       0.153488  0.019386  7.917663   \n",
       "australian-and-new-zealander-Indian  0.174884  0.023800  7.348163   \n",
       "canadian-Indian                      0.155552  0.022895  6.794243   \n",
       "us-recipes-Indian                    0.147568  0.018483  7.984200   \n",
       "\n",
       "                                            P>|t|  Conf. Int. Low  \\\n",
       "Italian-Indian                       2.837633e-14        0.107963   \n",
       "Mexican-Indian                       2.743826e-15        0.115487   \n",
       "australian-and-new-zealander-Indian  2.206762e-13        0.128230   \n",
       "canadian-Indian                      1.166483e-11        0.110672   \n",
       "us-recipes-Indian                    1.610261e-15        0.111338   \n",
       "\n",
       "                                     Conf. Int. Upp.     pvalue-hs  reject-hs  \n",
       "Italian-Indian                              0.182756  3.694822e-13       True  \n",
       "Mexican-Indian                              0.191489  3.885781e-14       True  \n",
       "australian-and-new-zealander-Indian         0.221538  2.648548e-12       True  \n",
       "canadian-Indian                             0.200431  1.283126e-10       True  \n",
       "us-recipes-Indian                           0.183799  2.498002e-14       True  "
      ]
     },
     "execution_count": 14,
     "metadata": {},
     "output_type": "execute_result"
    }
   ],
   "source": [
    "\n",
    "\n",
    "pt = pg.pairwise_tukey(dv='rate', between='country', data=test)\n",
    "\n",
    "print(pt[pt['p-tukey'] <=0.05])\n",
    "pair_t = mod.t_test_pairwise('country')\n",
    "pair_result=pair_t.result_frame\n",
    "pair_result.info()\n",
    "pair_result[pair_result['pvalue-hs']*15*14/2 <=0.05]"
   ]
  },
  {
   "cell_type": "markdown",
   "metadata": {},
   "source": [
    "## Assumption Check\n",
    "### Homogeneity of Variance"
   ]
  },
  {
   "cell_type": "code",
   "execution_count": 70,
   "metadata": {},
   "outputs": [
    {
     "data": {
      "text/plain": [
       "LeveneResult(statistic=8.986531394565066, pvalue=1.5814892426353427e-08)"
      ]
     },
     "execution_count": 70,
     "metadata": {},
     "output_type": "execute_result"
    }
   ],
   "source": [
    "stats.levene(test['rate'][test['country'] == 'Indian'],\n",
    "             test['rate'][test['country'] == 'Italian'],\n",
    "             test['rate'][test['country'] == 'Mexican'],\n",
    "            test['rate'][test['country'] == 'australian-and-new-zealander'],\n",
    "            test['rate'][test['country'] == 'canadian'],\n",
    "            test['rate'][test['country'] == 'us-recipes'])"
   ]
  },
  {
   "cell_type": "code",
   "execution_count": 72,
   "metadata": {},
   "outputs": [
    {
     "data": {
      "text/plain": [
       "(0.8864009380340576, 0.0)"
      ]
     },
     "execution_count": 72,
     "metadata": {},
     "output_type": "execute_result"
    }
   ],
   "source": [
    "stats.shapiro(mod.resid)"
   ]
  },
  {
   "cell_type": "markdown",
   "metadata": {},
   "source": [
    "### Conclusion: \n",
    "Since the p-value "
   ]
  },
  {
   "cell_type": "code",
   "execution_count": 175,
   "metadata": {},
   "outputs": [],
   "source": []
  },
  {
   "cell_type": "code",
   "execution_count": null,
   "metadata": {},
   "outputs": [],
   "source": [
    "\n",
    "\n",
    "    "
   ]
  },
  {
   "cell_type": "code",
   "execution_count": null,
   "metadata": {},
   "outputs": [],
   "source": [
    "\n"
   ]
  },
  {
   "cell_type": "code",
   "execution_count": 10,
   "metadata": {},
   "outputs": [
    {
     "name": "stdout",
     "output_type": "stream",
     "text": [
      "0.32718370201976044 0.17994229255923755 0.11314155810090058 0.09250677625251377 0.06426510448544198 0.06146716796362683 0.05718282766459736 0.05455976217539565 0.049750808778525835\n"
     ]
    },
    {
     "name": "stderr",
     "output_type": "stream",
     "text": [
      "C:\\Users\\Vivi\\Anaconda3\\lib\\site-packages\\ipykernel_launcher.py:1: SettingWithCopyWarning: \n",
      "A value is trying to be set on a copy of a slice from a DataFrame.\n",
      "Try using .loc[row_indexer,col_indexer] = value instead\n",
      "\n",
      "See the caveats in the documentation: http://pandas.pydata.org/pandas-docs/stable/indexing.html#indexing-view-versus-copy\n",
      "  \"\"\"Entry point for launching an IPython kernel.\n"
     ]
    },
    {
     "data": {
      "text/plain": [
       "<matplotlib.legend.Legend at 0x1e3ac2c1ac8>"
      ]
     },
     "execution_count": 10,
     "metadata": {},
     "output_type": "execute_result"
    },
    {
     "data": {
      "image/png": "[encoded data removed]",
      "text/plain": [
       "<Figure size 432x288 with 1 Axes>"
      ]
     },
     "metadata": {
      "needs_background": "light"
     },
     "output_type": "display_data"
    }
   ],
   "source": [
    "all_rate['n_rate']=all_rate.fivestar+all_rate.fourstar+all_rate.threestar+all_rate.twostar+all_rate.onestar\n",
    "d_1=0\n",
    "d_2=0\n",
    "d_3=0\n",
    "d_4=0\n",
    "d_5=0\n",
    "d_6=0\n",
    "d_7=0\n",
    "d_8=0\n",
    "d_9=0\n",
    "\n",
    "for x in all_rate.loc[:,'n_rate']:\n",
    "    if str(x)[0]=='1':\n",
    "        d_1=d_1+1\n",
    "    if str(x)[0]=='2':\n",
    "        d_2=d_2+1\n",
    "    if str(x)[0]=='3':\n",
    "        d_3=d_3+1\n",
    "    if str(x)[0]=='4':\n",
    "        d_4=d_4+1\n",
    "    if str(x)[0]=='5':\n",
    "        d_5=d_5+1\n",
    "    if str(x)[0]=='6':\n",
    "        d_6=d_6+1\n",
    "    if str(x)[0]=='7':\n",
    "        d_7=d_7+1\n",
    "    if str(x)[0]=='8':\n",
    "        d_8=d_8+1\n",
    "    if str(x)[0]=='9':\n",
    "        d_9=d_9+1\n",
    "print(d_1/11437,d_2/11437,d_3/11437,d_4/11437,d_5/11437,d_6/11437,d_7/11437,d_8/11437,d_9/11437)\n",
    "    \n",
    "\n",
    "y1 = [d_1/11437*100,d_2/11437*100,d_3/11437*100,d_4/11437*100,d_5/11437*100,d_6/11437*100,d_7/11437*100,d_8/11437*100,d_9/11437*100]\n",
    "x=[1,2,3,4,5,6,7,8,9]\n",
    "y2=[30.1,17.6,12.5,9.7,7.9,6.7,5.8,5.1,4.6]\n",
    "\n",
    "plt.plot(x, y1,markerfacecolor='blue', markersize=12, color='skyblue', linewidth=2,label='# of ratings')\n",
    "plt.plot( x, y2, marker='', color='olive', linewidth=2,label=\"Benford's Law\")\n",
    "\n",
    "for x,y in zip(x,y1):\n",
    "\n",
    "    label = \"{:.2f}\".format(y)\n",
    "\n",
    "    plt.annotate(label, # this is the text\n",
    "                 (x,y), # this is the point to label\n",
    "                 textcoords=\"offset points\", # how to position the text\n",
    "                 xytext=(0,10), # distance from text to points (x,y)\n",
    "                 ha='center',color='blue') # horizontal alignment can be left, right or center\n",
    "\n",
    "\n",
    "\n",
    "plt.legend()\n",
    "\n",
    "\n",
    "\n"
   ]
  },
  {
   "cell_type": "code",
   "execution_count": null,
   "metadata": {},
   "outputs": [],
   "source": []
  },
  {
   "cell_type": "code",
   "execution_count": null,
   "metadata": {},
   "outputs": [],
   "source": []
  }
 ],
 "metadata": {
  "kernelspec": {
   "display_name": "Python 3",
   "language": "python",
   "name": "python3"
  },
  "language_info": {
   "codemirror_mode": {
    "name": "ipython",
    "version": 3
   },
   "file_extension": ".py",
   "mimetype": "text/x-python",
   "name": "python",
   "nbconvert_exporter": "python",
   "pygments_lexer": "ipython3",
   "version": "3.7.3"
  }
 },
 "nbformat": 4,
 "nbformat_minor": 2
}
